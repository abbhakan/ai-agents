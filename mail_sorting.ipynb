{
  "cells": [
    {
      "cell_type": "markdown",
      "metadata": {
        "id": "LLQkEqRpnfXj"
      },
      "source": [
        "# Alfred the Mail Sorting Butler: A LangGraph Example\n",
        "\n",
        "In this notebook, **we're going to build a complete email processing workflow using LangGraph**.\n",
        "\n",
        "This notebook is part of the <a href=\"https://www.hf.co/learn/agents-course\">Hugging Face Agents Course</a>, a free course from beginner to expert, where you learn to build Agents.\n",
        "\n",
        "![Agents course share](https://huggingface.co/datasets/agents-course/course-images/resolve/main/en/communication/share.png)\n",
        "\n",
        "## What You'll Learn\n",
        "\n",
        "In this notebook, you'll learn how to:\n",
        "1. Set up a LangGraph workflow\n",
        "2. Define state and nodes for email processing\n",
        "3. Create conditional branching in a graph\n",
        "4. Connect an LLM for classification and content generation\n",
        "5. Visualize the workflow graph\n",
        "6. Execute the workflow with example data"
      ]
    },
    {
      "cell_type": "code",
      "execution_count": 9,
      "metadata": {
        "id": "jzF1vuAUnfXl"
      },
      "outputs": [
        {
          "name": "stdout",
          "output_type": "stream",
          "text": [
            "Note: you may need to restart the kernel to use updated packages.\n"
          ]
        },
        {
          "name": "stderr",
          "output_type": "stream",
          "text": [
            "\n",
            "[notice] A new release of pip is available: 25.0.1 -> 25.1\n",
            "[notice] To update, run: python.exe -m pip install --upgrade pip\n"
          ]
        }
      ],
      "source": [
        "# Install the required packages\n",
        "%pip install -q langgraph langchain_openai langchain_huggingface python-dotenv"
      ]
    },
    {
      "cell_type": "markdown",
      "metadata": {
        "id": "ZjbC-d2UnfXo"
      },
      "source": [
        "## Set Up Environment Variables\n",
        "\n",
        "To store credentials securely, rename `.env.sample` file to `.env` in the same directory as the notebook and update the following variables:"
      ]
    },
    {
      "cell_type": "code",
      "execution_count": null,
      "metadata": {},
      "outputs": [],
      "source": [
        "AZURE_OPENAI_ENDPOINT=\"https://aoai-fastai-rag.openai.azure.com/\"\n",
        "AZURE_OPENAI_CHAT_COMPLETION_DEPLOYED_MODEL_NAME=\"gpt-4o-mini\"\n",
        "AZURE_OPENAI_API_VERSION=\"2023-05-15\"\n",
        "AZURE_OPENAI_TYPE=\"azure\"\n",
        "AZURE_OPENAI_API_KEY=\"\""
      ]
    },
    {
      "cell_type": "markdown",
      "metadata": {},
      "source": [
        "## Setting Up Our Environment\n",
        "\n",
        "First, let's import all the necessary libraries. LangGraph provides the graph structure, while LangChain offers convenient interfaces for working with LLMs."
      ]
    },
    {
      "cell_type": "code",
      "execution_count": 10,
      "metadata": {
        "id": "3z7Ypz06nfXo"
      },
      "outputs": [],
      "source": [
        "import os\n",
        "from typing import TypedDict, List, Dict, Any, Optional\n",
        "from langgraph.graph import StateGraph, END\n",
        "from langchain_openai import AzureChatOpenAI\n",
        "from langchain_core.messages import HumanMessage, AIMessage\n",
        "import dotenv\n",
        "\n",
        "# Load environment variables from .env file\n",
        "dotenv.load_dotenv(override=True)\n",
        "\n",
        "# Load Azure OpenAI environment variables\n",
        "AZURE_OPENAI_ENDPOINT = os.getenv(\"AZURE_OPENAI_ENDPOINT\")\n",
        "AZURE_OPENAI_API_KEY = os.getenv(\"AZURE_OPENAI_API_KEY\")\n",
        "AZURE_OPENAI_API_VERSION=os.getenv(\"AZURE_OPENAI_API_VERSION\")\n",
        "AZURE_OPENAI_TYPE = os.getenv(\"AZURE_OPENAI_TYPE\")\n",
        "AZURE_OPENAI_CHAT_COMPLETION_DEPLOYED_MODEL_NAME = os.getenv(\"AZURE_OPENAI_CHAT_COMPLETION_DEPLOYED_MODEL_NAME\")\n",
        "\n",
        "\n",
        "# Initialize our LLM\n",
        "#model = ChatOpenAI(model=\"gpt-4o-mini\", temperature=0)\n",
        "model = AzureChatOpenAI(\n",
        "    azure_endpoint=AZURE_OPENAI_ENDPOINT,\n",
        "    openai_api_version=AZURE_OPENAI_API_VERSION,\n",
        "    deployment_name=AZURE_OPENAI_CHAT_COMPLETION_DEPLOYED_MODEL_NAME,\n",
        "    openai_api_key=AZURE_OPENAI_API_KEY,\n",
        "    openai_api_type=AZURE_OPENAI_TYPE,\n",
        "    temperature=0.7\n",
        ")"
      ]
    },
    {
      "cell_type": "markdown",
      "metadata": {
        "id": "0uXiGS8RnfXo"
      },
      "source": [
        "## Step 1: Define Our State\n",
        "\n",
        "In LangGraph, **State** is the central concept. It represents all the information that flows through our workflow.\n",
        "\n",
        "For Alfred's email processing system, we need to track:\n",
        "- The email being processed\n",
        "- Whether it's spam or not\n",
        "- The draft response (for legitimate emails)\n",
        "- Conversation history with the LLM"
      ]
    },
    {
      "cell_type": "code",
      "execution_count": 11,
      "metadata": {
        "id": "1x1zplIGnfXo"
      },
      "outputs": [],
      "source": [
        "class EmailState(TypedDict):\n",
        "    email: Dict[str, Any]\n",
        "    is_spam: Optional[bool]\n",
        "    spam_reason: Optional[str]\n",
        "    email_category: Optional[str]\n",
        "    draft_response: Optional[str]\n",
        "    messages: List[Dict[str, Any]]"
      ]
    },
    {
      "cell_type": "markdown",
      "metadata": {
        "id": "bCBTZE3AnfXo"
      },
      "source": [
        "## Step 2: Define Our Nodes"
      ]
    },
    {
      "cell_type": "code",
      "execution_count": null,
      "metadata": {
        "colab": {
          "base_uri": "https://localhost:8080/"
        },
        "id": "VJXj8dGbnfXo",
        "outputId": "f367b7e0-5777-41ae-d7ea-4413dc5c36c6"
      },
      "outputs": [
        {
          "data": {
            "text/plain": [
              "<langgraph.graph.state.StateGraph at 0x248968abb10>"
            ]
          },
          "execution_count": 12,
          "metadata": {},
          "output_type": "execute_result"
        }
      ],
      "source": [
        "import os\n",
        "from typing import TypedDict, List, Dict, Any, Optional\n",
        "from langgraph.graph import StateGraph, START, END\n",
        "from langchain_openai import AzureChatOpenAI\n",
        "from langchain_core.messages import HumanMessage, AIMessage\n",
        "from langchain_huggingface import ChatHuggingFace, HuggingFaceEndpoint\n",
        "import dotenv\n",
        "\n",
        "class EmailState(TypedDict):\n",
        "    email: Dict[str, Any]\n",
        "    is_spam: Optional[bool]\n",
        "    draft_response: Optional[str]\n",
        "    messages: List[Dict[str, Any]]\n",
        "\n",
        "# Define nodes\n",
        "def read_email(state: EmailState):\n",
        "    email = state[\"email\"]\n",
        "    print(f\"Alfred is processing an email from {email['sender']} with subject: {email['subject']}\")\n",
        "    return {}\n",
        "\n",
        "def classify_email(state: EmailState):\n",
        "    email = state[\"email\"]\n",
        "\n",
        "    prompt = f\"\"\"\n",
        "As Alfred the butler of Mr wayne and it's SECRET identity Batman, analyze this email and determine if it is spam or legitimate and should be brought to Mr wayne's attention.\n",
        "\n",
        "Email:\n",
        "From: {email['sender']}\n",
        "Subject: {email['subject']}\n",
        "Body: {email['body']}\n",
        "\n",
        "First, determine if this email is spam.\n",
        "answer with SPAM or HAM if it's legitimate. Only reurn the answer\n",
        "Answer :\n",
        "    \"\"\"\n",
        "    messages = [HumanMessage(content=prompt)]\n",
        "    response = model.invoke(messages)\n",
        "\n",
        "    response_text = response.content.lower()\n",
        "    print(response_text)\n",
        "    is_spam = \"spam\" in response_text and \"ham\" not in response_text\n",
        "\n",
        "    if not is_spam:\n",
        "        new_messages = state.get(\"messages\", []) + [\n",
        "            {\"role\": \"user\", \"content\": prompt},\n",
        "            {\"role\": \"assistant\", \"content\": response.content}\n",
        "        ]\n",
        "    else :\n",
        "        new_messages = state.get(\"messages\", [])\n",
        "\n",
        "    return {\n",
        "        \"is_spam\": is_spam,\n",
        "        \"messages\": new_messages\n",
        "    }\n",
        "\n",
        "def handle_spam(state: EmailState):\n",
        "    print(f\"Alfred has marked the email as spam.\")\n",
        "    print(\"The email has been moved to the spam folder.\")\n",
        "    return {}\n",
        "\n",
        "def drafting_response(state: EmailState):\n",
        "    email = state[\"email\"]\n",
        "\n",
        "    prompt = f\"\"\"\n",
        "As Alfred the butler, draft a polite preliminary response to this email.\n",
        "\n",
        "Email:\n",
        "From: {email['sender']}\n",
        "Subject: {email['subject']}\n",
        "Body: {email['body']}\n",
        "\n",
        "Draft a brief, professional response that Mr. Wayne can review and personalize before sending.\n",
        "    \"\"\"\n",
        "\n",
        "    messages = [HumanMessage(content=prompt)]\n",
        "    response = model.invoke(messages)\n",
        "\n",
        "    new_messages = state.get(\"messages\", []) + [\n",
        "        {\"role\": \"user\", \"content\": prompt},\n",
        "        {\"role\": \"assistant\", \"content\": response.content}\n",
        "    ]\n",
        "\n",
        "    return {\n",
        "        \"draft_response\": response.content,\n",
        "        \"messages\": new_messages\n",
        "    }\n",
        "\n",
        "def notify_mr_wayne(state: EmailState):\n",
        "    email = state[\"email\"]\n",
        "\n",
        "    print(\"\\n\" + \"=\"*50)\n",
        "    print(f\"Sir, you've received an email from {email['sender']}.\")\n",
        "    print(f\"Subject: {email['subject']}\")\n",
        "    print(\"\\nI've prepared a draft response for your review:\")\n",
        "    print(\"-\"*50)\n",
        "    print(state[\"draft_response\"])\n",
        "    print(\"=\"*50 + \"\\n\")\n",
        "\n",
        "    return {}\n",
        "\n",
        "# Define routing logic\n",
        "def route_email(state: EmailState) -> str:\n",
        "    if state[\"is_spam\"]:\n",
        "        return \"spam\"\n",
        "    else:\n",
        "        return \"legitimate\"\n",
        "\n",
        "# Create the graph\n",
        "email_graph = StateGraph(EmailState)\n",
        "\n",
        "# Add nodes\n",
        "email_graph.add_node(\"read_email\", read_email) # the read_email node executes the read_mail function\n",
        "email_graph.add_node(\"classify_email\", classify_email) # the classify_email node will execute the classify_email function\n",
        "email_graph.add_node(\"handle_spam\", handle_spam) #same logic\n",
        "email_graph.add_node(\"drafting_response\", drafting_response) #same logic\n",
        "email_graph.add_node(\"notify_mr_wayne\", notify_mr_wayne) # same logic\n"
      ]
    },
    {
      "cell_type": "markdown",
      "metadata": {
        "id": "3rvAYSoUnfXp"
      },
      "source": [
        "## Step 3: Define Our Routing Logic"
      ]
    },
    {
      "cell_type": "code",
      "execution_count": 13,
      "metadata": {
        "colab": {
          "base_uri": "https://localhost:8080/"
        },
        "id": "857rk_GXnfXp",
        "outputId": "3a467994-c389-499f-f863-3f513db3b949"
      },
      "outputs": [
        {
          "data": {
            "text/plain": [
              "<langgraph.graph.state.StateGraph at 0x248968abb10>"
            ]
          },
          "execution_count": 13,
          "metadata": {},
          "output_type": "execute_result"
        }
      ],
      "source": [
        "# Add edges\n",
        "email_graph.add_edge(START, \"read_email\") # After starting we go to the \"read_email\" node\n",
        "\n",
        "email_graph.add_edge(\"read_email\", \"classify_email\") # after_reading we classify\n",
        "\n",
        "# Add conditional edges\n",
        "email_graph.add_conditional_edges(\n",
        "    \"classify_email\", # after classify, we run the \"route_email\" function\"\n",
        "    route_email,\n",
        "    {\n",
        "        \"spam\": \"handle_spam\", # if it return \"Spam\", we go the \"handle_span\" node\n",
        "        \"legitimate\": \"drafting_response\" # and if it's legitimate, we go to the \"drafting response\" node\n",
        "    }\n",
        ")\n",
        "\n",
        "# Add final edges\n",
        "email_graph.add_edge(\"handle_spam\", END) # after handling spam we always end\n",
        "email_graph.add_edge(\"drafting_response\", \"notify_mr_wayne\")\n",
        "email_graph.add_edge(\"notify_mr_wayne\", END) # after notifyinf Me wayne, we can end  too\n"
      ]
    },
    {
      "cell_type": "markdown",
      "metadata": {
        "id": "gcqSKVsrnfXp"
      },
      "source": [
        "## Step 4: Create the StateGraph and Define Edges"
      ]
    },
    {
      "cell_type": "code",
      "execution_count": 14,
      "metadata": {
        "id": "zfOaC0yrnfXp"
      },
      "outputs": [],
      "source": [
        "# Compile the graph\n",
        "compiled_graph = email_graph.compile()"
      ]
    },
    {
      "cell_type": "code",
      "execution_count": 17,
      "metadata": {
        "colab": {
          "base_uri": "https://localhost:8080/",
          "height": 572
        },
        "id": "jxOl0dp7nfXp",
        "outputId": "b8631de5-e210-481a-b821-3110fc11ec45"
      },
      "outputs": [
        {
          "name": "stdout",
          "output_type": "stream",
          "text": [
            "---\n",
            "config:\n",
            "  flowchart:\n",
            "    curve: linear\n",
            "---\n",
            "graph TD;\n",
            "\t__start__([<p>__start__</p>]):::first\n",
            "\tread_email(read_email)\n",
            "\tclassify_email(classify_email)\n",
            "\thandle_spam(handle_spam)\n",
            "\tdrafting_response(drafting_response)\n",
            "\tnotify_mr_wayne(notify_mr_wayne)\n",
            "\t__end__([<p>__end__</p>]):::last\n",
            "\t__start__ --> read_email;\n",
            "\tclassify_email -. &nbsp;legitimate&nbsp; .-> drafting_response;\n",
            "\tclassify_email -. &nbsp;spam&nbsp; .-> handle_spam;\n",
            "\tdrafting_response --> notify_mr_wayne;\n",
            "\tread_email --> classify_email;\n",
            "\thandle_spam --> __end__;\n",
            "\tnotify_mr_wayne --> __end__;\n",
            "\tclassDef default fill:#f2f0ff,line-height:1.2\n",
            "\tclassDef first fill-opacity:0\n",
            "\tclassDef last fill:#bfb6fc\n",
            "\n"
          ]
        }
      ],
      "source": [
        "\n",
        "from IPython.display import Image, display\n",
        "\n",
        "#display(Image(compiled_graph.get_graph().draw_mermaid_png()))\n",
        "print(compiled_graph.get_graph().draw_mermaid())\n",
        "\n",
        "# paste this in mermaid live editor to see the graph\n",
        "# https://mermaid-js.github.io/mermaid-live-editor/"
      ]
    },
    {
      "cell_type": "code",
      "execution_count": 16,
      "metadata": {
        "colab": {
          "base_uri": "https://localhost:8080/"
        },
        "id": "0W9GPi0tnfXq",
        "outputId": "0bad6a95-ae32-41f6-9551-098fe87d0127"
      },
      "outputs": [
        {
          "name": "stdout",
          "output_type": "stream",
          "text": [
            "\n",
            "Processing legitimate email...\n",
            "Alfred is processing an email from Joker with subject: Found you Batman ! \n",
            "ham\n",
            "\n",
            "==================================================\n",
            "Sir, you've received an email from Joker.\n",
            "Subject: Found you Batman ! \n",
            "\n",
            "I've prepared a draft response for your review:\n",
            "--------------------------------------------------\n",
            "Subject: Re: Found you Batman!\n",
            "\n",
            "Dear Joker,\n",
            "\n",
            "Thank you for your email. I appreciate your enthusiasm, though I must remind you that threats and intimidation are not the path to resolution. Mr. Wayne is a private individual who values his privacy and safety.\n",
            "\n",
            "If you wish to discuss your concerns further, I encourage you to reach out in a more constructive manner.\n",
            "\n",
            "Best regards,\n",
            "\n",
            "Alfred Pennyworth  \n",
            "Executive Assistant to Bruce Wayne\n",
            "==================================================\n",
            "\n",
            "\n",
            "Processing spam email...\n",
            "Alfred is processing an email from Crypto bro with subject: The best investment of 2025\n",
            "spam\n",
            "Alfred has marked the email as spam.\n",
            "The email has been moved to the spam folder.\n"
          ]
        }
      ],
      "source": [
        " # Example emails for testing\n",
        "legitimate_email = {\n",
        "    \"sender\": \"Joker\",\n",
        "    \"subject\": \"Found you Batman ! \",\n",
        "    \"body\": \"Mr. Wayne,I found your secret identity ! I know you're batman ! Ther's no denying it, I have proof of that and I'm coming to find you soon. I'll get my revenge. JOKER\"\n",
        "}\n",
        "\n",
        "spam_email = {\n",
        "    \"sender\": \"Crypto bro\",\n",
        "    \"subject\": \"The best investment of 2025\",\n",
        "    \"body\": \"Mr Wayne, I just launched an ALT coin and want you to buy some !\"\n",
        "}\n",
        "# Process legitimate email\n",
        "print(\"\\nProcessing legitimate email...\")\n",
        "legitimate_result = compiled_graph.invoke({\n",
        "    \"email\": legitimate_email,\n",
        "    \"is_spam\": None,\n",
        "    \"draft_response\": None,\n",
        "    \"messages\": []\n",
        "})\n",
        "\n",
        "# Process spam email\n",
        "print(\"\\nProcessing spam email...\")\n",
        "spam_result = compiled_graph.invoke({\n",
        "    \"email\": spam_email,\n",
        "    \"is_spam\": None,\n",
        "    \"draft_response\": None,\n",
        "    \"messages\": []\n",
        "})"
      ]
    },
    {
      "cell_type": "code",
      "execution_count": null,
      "metadata": {
        "id": "2ckIeJfdnfXq"
      },
      "outputs": [],
      "source": []
    }
  ],
  "metadata": {
    "colab": {
      "provenance": []
    },
    "kernelspec": {
      "display_name": "Python 3",
      "language": "python",
      "name": "python3"
    },
    "language_info": {
      "codemirror_mode": {
        "name": "ipython",
        "version": 3
      },
      "file_extension": ".py",
      "mimetype": "text/x-python",
      "name": "python",
      "nbconvert_exporter": "python",
      "pygments_lexer": "ipython3",
      "version": "3.13.2"
    }
  },
  "nbformat": 4,
  "nbformat_minor": 0
}
